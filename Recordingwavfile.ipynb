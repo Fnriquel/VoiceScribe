{
 "cells": [
  {
   "attachments": {},
   "cell_type": "markdown",
   "metadata": {},
   "source": [
    "Voicemeeter needs to be isntalled and running"
   ]
  },
  {
   "cell_type": "code",
   "execution_count": 2,
   "metadata": {},
   "outputs": [
    {
     "name": "stdout",
     "output_type": "stream",
     "text": [
      "Recording started. Please wait...\n",
      "Recording finished. Saving the WAV file...\n",
      "File saved as output2.wav\n"
     ]
    }
   ],
   "source": [
    "import pyaudio\n",
    "import wave\n",
    "\n",
    "# Set recording parameters\n",
    "duration = 10  # Recording duration in seconds\n",
    "fs = 16000     # Sample rate\n",
    "channels = 1   # Number of audio channels (1 for mono, 2 for stereo)\n",
    "chunk_size = 1024  # Chunk size for reading audio data\n",
    "filename = 'output2.wav'\n",
    "\n",
    "# Initialize the PyAudio object\n",
    "pa = pyaudio.PyAudio()\n",
    "\n",
    "# Configure the audio stream for recording\n",
    "stream = pa.open(format=pyaudio.paInt16,\n",
    "                 channels=channels,\n",
    "                 rate=fs,\n",
    "                 input=True,\n",
    "                 frames_per_buffer=chunk_size,\n",
    "                 input_device_index=1)\n",
    "\n",
    "# Record audio in chunks\n",
    "print(\"Recording started. Please wait...\")\n",
    "frames = []\n",
    "for _ in range(0, int(fs / chunk_size * duration)):\n",
    "    data = stream.read(chunk_size)\n",
    "    frames.append(data)\n",
    "\n",
    "print(\"Recording finished. Saving the WAV file...\")\n",
    "\n",
    "# Stop and close the audio stream\n",
    "stream.stop_stream()\n",
    "stream.close()\n",
    "pa.terminate()\n",
    "\n",
    "# Save the recorded audio as a WAV file\n",
    "with wave.open(filename, 'wb') as wf:\n",
    "    wf.setnchannels(channels)\n",
    "    wf.setsampwidth(pa.get_sample_size(pyaudio.paInt16))\n",
    "    wf.setframerate(fs)\n",
    "    wf.writeframes(b''.join(frames))\n",
    "\n",
    "print(f\"File saved as {filename}\")\n"
   ]
  },
  {
   "cell_type": "code",
   "execution_count": 16,
   "metadata": {},
   "outputs": [],
   "source": [
    "# Note: you need to be using OpenAI Python v0.27.0 for the code below to work\n",
    "import openai\n",
    "\n",
    "# Replace the file path with the actual path to your API key text file\n",
    "api_key_file = r\"C:\\Users\\Fabian Riquelme\\Desktop\\W266\\ChatGPT-API-Basics\\key.txt\"\n",
    "\n",
    "with open(api_key_file, \"r\") as f:\n",
    "    openai.api_key = f.read().strip()\n",
    "\n",
    "\n",
    "audio_file= open(\"reduced_recording.wav\", \"rb\")\n",
    "transcript = openai.Audio.transcribe(\"whisper-1\", audio_file)"
   ]
  },
  {
   "cell_type": "code",
   "execution_count": 24,
   "metadata": {},
   "outputs": [
    {
     "name": "stdout",
     "output_type": "stream",
     "text": [
      "• The Biden administration is set to implement a rule that will make it more expensive for homebuyers with good credit to purchase a home in order to subsidize the loans of high-risk borrowers. \n",
      "• The rule is set to go into effect on May 1st, and it is estimated that good credit buyers could pay an additional $40 a month on a $400,000 mortgage. \n",
      "• This rule is controversial and has been met with criticism from future homebuyers who feel they are being punished for building a good credit score and saving for a down payment. \n",
      "• The rule is a direct attempt to inject socialism into the economy, and it will affect those with high credit scores who will pay higher fees on their mortgage payments to subsidize those with bad credit. \n",
      "• The Federal Housing Finance Agency's Loan Level Price Adjustment (LLPA) will include factors such as credit score, debt to income, loan to value ratio, etc. \n",
      "• Those with a credit score of 639 or less will get a 1.75% discount on their mortgage rate, while those with a credit score between 720 to 759 will pay a fee of 0.75%. \n",
      "• This fee of 0.75% can add up to roughly $40 per month in extra payments, which over the lifetime of the 30 year loan is about $14,500.\n"
     ]
    }
   ],
   "source": [
    "transcript_text = transcript['text']\n",
    "\n",
    "\n",
    "# Prepare a prompt for GPT-3 to summarize the transcript with highlights\n",
    "prompt = f\"Please provide a summary with highlights for the following transcript:\\n\\n{transcript_text}\\n\\nSummary and Highlights in bullet points:\"\n",
    "\n",
    "# Set up GPT-3 completion parameters\n",
    "model = \"text-davinci-003\"\n",
    "max_tokens = 1000\n",
    "temperature = 0.5\n",
    "n = 1\n",
    "stop = None\n",
    "\n",
    "# Call the GPT-3 API\n",
    "response = openai.Completion.create(\n",
    "    engine=model,\n",
    "    prompt=prompt,\n",
    "    max_tokens=max_tokens,\n",
    "    n=n,\n",
    "    stop=stop,\n",
    "    temperature=temperature,\n",
    ")\n",
    "\n",
    "# Extract and print the summary with highlights\n",
    "summary_with_highlights = response.choices[0].text.strip()\n",
    "print(summary_with_highlights)\n"
   ]
  },
  {
   "attachments": {},
   "cell_type": "markdown",
   "metadata": {},
   "source": [
    "This is to reduce the size and length of teh wav file."
   ]
  },
  {
   "cell_type": "code",
   "execution_count": null,
   "metadata": {},
   "outputs": [],
   "source": [
    "from pydub import AudioSegment\n",
    "\n",
    "audio = AudioSegment.from_wav(\"output.wav\")\n",
    "\n",
    "# PyDub handles time in milliseconds\n",
    "five_minutes = 5 * 60 * 1000\n",
    "\n",
    "first_5_minutes = audio[:five_minutes]\n",
    "\n",
    "first_5_minutes.export(\"reduced_recording.wav\", format=\"wav\")"
   ]
  }
 ],
 "metadata": {
  "kernelspec": {
   "display_name": "cv2023",
   "language": "python",
   "name": "python3"
  },
  "language_info": {
   "codemirror_mode": {
    "name": "ipython",
    "version": 3
   },
   "file_extension": ".py",
   "mimetype": "text/x-python",
   "name": "python",
   "nbconvert_exporter": "python",
   "pygments_lexer": "ipython3",
   "version": "3.9.16"
  },
  "orig_nbformat": 4
 },
 "nbformat": 4,
 "nbformat_minor": 2
}
