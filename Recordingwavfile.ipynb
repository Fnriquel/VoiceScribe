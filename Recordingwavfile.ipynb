{
 "cells": [
  {
   "cell_type": "code",
   "execution_count": 1,
   "metadata": {},
   "outputs": [],
   "source": [
    "##record a wav file from the microphone\n",
    "import pyaudio\n",
    "import wave\n",
    "import time\n",
    "import requests\n",
    "import json\n",
    "import os\n",
    "import sys\n",
    "import subprocess\n",
    "\n",
    "#record a wav file from the microphone\n",
    "def record_wav_file(file_name, duration):\n",
    "    chunk = 1024\n",
    "    FORMAT = pyaudio.paInt16\n",
    "    CHANNELS = 1\n",
    "    RATE = 16000\n",
    "    RECORD_SECONDS = duration\n",
    "    WAVE_OUTPUT_FILENAME = file_name\n",
    "\n",
    "    p = pyaudio.PyAudio()\n",
    "\n",
    "    stream = p.open(format=FORMAT,\n",
    "                    channels=CHANNELS,\n",
    "                    rate=RATE,\n",
    "                    input=True,\n",
    "                    frames_per_buffer=chunk)\n",
    "\n",
    "    print(\"* recording\")\n",
    "\n",
    "    frames = []\n",
    "\n",
    "    for i in range(0, int(RATE / chunk * RECORD_SECONDS)):\n",
    "        data = stream.read(chunk)\n",
    "        frames.append(data)\n",
    "\n",
    "    print(\"* done recording\")\n",
    "\n",
    "    stream.stop_stream()\n",
    "    stream.close()\n",
    "    p.terminate()\n",
    "\n",
    "    wf = wave.open(WAVE_OUTPUT_FILENAME, 'wb')\n",
    "    wf.setnchannels(CHANNELS)\n",
    "    wf.setsampwidth(p.get_sample_size(FORMAT))\n",
    "    wf.setframerate(RATE)\n",
    "    wf.writeframes(b''.join(frames))\n",
    "    wf.close()\n",
    "\n"
   ]
  },
  {
   "cell_type": "code",
   "execution_count": 3,
   "metadata": {},
   "outputs": [
    {
     "name": "stdout",
     "output_type": "stream",
     "text": [
      "Requirement already satisfied: sounddevice in c:\\users\\fabian riquelme\\anaconda3\\envs\\cv2022\\lib\\site-packages (0.4.6)\n",
      "Requirement already satisfied: CFFI>=1.0 in c:\\users\\fabian riquelme\\anaconda3\\envs\\cv2022\\lib\\site-packages (from sounddevice) (1.15.1)\n",
      "Requirement already satisfied: pycparser in c:\\users\\fabian riquelme\\anaconda3\\envs\\cv2022\\lib\\site-packages (from CFFI>=1.0->sounddevice) (2.21)\n",
      "Note: you may need to restart the kernel to use updated packages.\n"
     ]
    }
   ],
   "source": [
    "pip install sounddevice\n"
   ]
  },
  {
   "cell_type": "code",
   "execution_count": 1,
   "metadata": {},
   "outputs": [
    {
     "name": "stdout",
     "output_type": "stream",
     "text": [
      "Recording started. Please wait...\n",
      "Recording finished. Saving the WAV file...\n",
      "File saved as Test 1 Recording.wav\n"
     ]
    }
   ],
   "source": [
    "import sounddevice as sd\n",
    "import numpy as np\n",
    "import wave\n",
    "\n",
    "# Set recording parameters\n",
    "duration = 20 # Recording duration in seconds\n",
    "fs = 44100     # Sample rate\n",
    "channels = 1   # Number of audio channels (1 for mono, 2 for stereo)\n",
    "filename = 'Test 1 Recording.wav'\n",
    "\n",
    "# Create an audio buffer for the recording\n",
    "buffer = np.zeros((duration * fs, channels), dtype=np.float32)\n",
    "\n",
    "# Callback function for audio stream processing\n",
    "def audio_callback(indata, frames, time, status):\n",
    "    buffer[:frames] = indata\n",
    "\n",
    "# Record audio using the sounddevice library\n",
    "with sd.InputStream(samplerate=fs, channels=channels, callback=audio_callback):\n",
    "    print(\"Recording started. Please wait...\")\n",
    "    sd.sleep(duration * 1000)  # Wait for the recording to finish\n",
    "\n",
    "print(\"Recording finished. Saving the WAV file...\")\n",
    "\n",
    "# Save the recorded audio as a WAV file\n",
    "with wave.open(filename, 'wb') as wf:\n",
    "    wf.setnchannels(channels)\n",
    "    wf.setsampwidth(2)  # 2 bytes (16 bits) per sample\n",
    "    wf.setframerate(fs)\n",
    "    wf.writeframes((buffer * np.iinfo(np.int16).max).astype(np.int16).tobytes())\n",
    "\n",
    "print(f\"File saved as {filename}\")\n",
    "\n",
    "\n"
   ]
  },
  {
   "cell_type": "code",
   "execution_count": 4,
   "metadata": {},
   "outputs": [
    {
     "name": "stdout",
     "output_type": "stream",
     "text": [
      "Collecting pyaudio\n",
      "  Using cached PyAudio-0.2.13-cp39-cp39-win_amd64.whl (164 kB)\n",
      "Installing collected packages: pyaudio\n",
      "Successfully installed pyaudio-0.2.13\n",
      "Note: you may need to restart the kernel to use updated packages.\n"
     ]
    }
   ],
   "source": [
    "pip install pyaudio"
   ]
  },
  {
   "cell_type": "code",
   "execution_count": 4,
   "metadata": {},
   "outputs": [
    {
     "name": "stdout",
     "output_type": "stream",
     "text": [
      "Recording started. Please wait...\n",
      "Recording finished. Saving the WAV file...\n",
      "File saved as output.wav\n"
     ]
    }
   ],
   "source": [
    "import pyaudio\n",
    "import wave\n",
    "\n",
    "# Set recording parameters\n",
    "duration = 10  # Recording duration in seconds\n",
    "fs = 44100     # Sample rate\n",
    "channels = 1   # Number of audio channels (1 for mono, 2 for stereo)\n",
    "chunk_size = 1024  # Chunk size for reading audio data\n",
    "filename = 'output.wav'\n",
    "\n",
    "# Initialize the PyAudio object\n",
    "pa = pyaudio.PyAudio()\n",
    "\n",
    "# Configure the audio stream for recording\n",
    "stream = pa.open(format=pyaudio.paInt16,\n",
    "                 channels=channels,\n",
    "                 rate=fs,\n",
    "                 input=True,\n",
    "                 frames_per_buffer=chunk_size,\n",
    "                 input_device_index=1)\n",
    "\n",
    "# Record audio in chunks\n",
    "print(\"Recording started. Please wait...\")\n",
    "frames = []\n",
    "for _ in range(0, int(fs / chunk_size * duration)):\n",
    "    data = stream.read(chunk_size)\n",
    "    frames.append(data)\n",
    "\n",
    "print(\"Recording finished. Saving the WAV file...\")\n",
    "\n",
    "# Stop and close the audio stream\n",
    "stream.stop_stream()\n",
    "stream.close()\n",
    "pa.terminate()\n",
    "\n",
    "# Save the recorded audio as a WAV file\n",
    "with wave.open(filename, 'wb') as wf:\n",
    "    wf.setnchannels(channels)\n",
    "    wf.setsampwidth(pa.get_sample_size(pyaudio.paInt16))\n",
    "    wf.setframerate(fs)\n",
    "    wf.writeframes(b''.join(frames))\n",
    "\n",
    "print(f\"File saved as {filename}\")\n"
   ]
  },
  {
   "cell_type": "code",
   "execution_count": 3,
   "metadata": {},
   "outputs": [
    {
     "name": "stdout",
     "output_type": "stream",
     "text": [
      "* recording\n",
      "* done recording\n"
     ]
    }
   ],
   "source": [
    "record_wav_file(\"test.wav\", 10)"
   ]
  }
 ],
 "metadata": {
  "kernelspec": {
   "display_name": "cv2023",
   "language": "python",
   "name": "python3"
  },
  "language_info": {
   "codemirror_mode": {
    "name": "ipython",
    "version": 3
   },
   "file_extension": ".py",
   "mimetype": "text/x-python",
   "name": "python",
   "nbconvert_exporter": "python",
   "pygments_lexer": "ipython3",
   "version": "3.9.16"
  },
  "orig_nbformat": 4
 },
 "nbformat": 4,
 "nbformat_minor": 2
}
